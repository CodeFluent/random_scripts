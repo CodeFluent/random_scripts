{
 "cells": [
  {
   "cell_type": "markdown",
   "metadata": {},
   "source": [
    "# Get Data\n",
    "get data as needed from https://github.com/arielf/weight-loss\n",
    "\n",
    "- loseit csv downloads\n",
    "- withings"
   ]
  }
 ],
 "metadata": {
  "language_info": {
   "name": "python"
  }
 },
 "nbformat": 4,
 "nbformat_minor": 2
}
